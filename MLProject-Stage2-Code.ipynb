{
 "cells": [
  {
   "cell_type": "code",
   "execution_count": null,
   "id": "ce4bd8f7",
   "metadata": {},
   "outputs": [],
   "source": [
    "import numpy as np\n",
    "import pandas as pd\n",
    "import seaborn as sns\n",
    "import matplotlib.pyplot as plt \n",
    "%matplotlib inline"
   ]
  },
  {
   "cell_type": "code",
   "execution_count": 24,
   "id": "b2d1ea6e",
   "metadata": {},
   "outputs": [],
   "source": [
    "data = pd.read_csv('PopulationByCountryByYear.csv')"
   ]
  },
  {
   "cell_type": "code",
   "execution_count": 25,
   "id": "668573fc",
   "metadata": {},
   "outputs": [
    {
     "data": {
      "text/html": [
       "<div>\n",
       "<style scoped>\n",
       "    .dataframe tbody tr th:only-of-type {\n",
       "        vertical-align: middle;\n",
       "    }\n",
       "\n",
       "    .dataframe tbody tr th {\n",
       "        vertical-align: top;\n",
       "    }\n",
       "\n",
       "    .dataframe thead th {\n",
       "        text-align: right;\n",
       "    }\n",
       "</style>\n",
       "<table border=\"1\" class=\"dataframe\">\n",
       "  <thead>\n",
       "    <tr style=\"text-align: right;\">\n",
       "      <th></th>\n",
       "      <th>Year</th>\n",
       "      <th>Aruba</th>\n",
       "      <th>Africa Eastern and Southern</th>\n",
       "      <th>Afghanistan</th>\n",
       "      <th>Africa Western and Central</th>\n",
       "      <th>Angola</th>\n",
       "      <th>Albania</th>\n",
       "      <th>Andorra</th>\n",
       "      <th>Arab World</th>\n",
       "      <th>United Arab Emirates</th>\n",
       "      <th>...</th>\n",
       "      <th>Virgin Islands (U.S.)</th>\n",
       "      <th>Vietnam</th>\n",
       "      <th>Vanuatu</th>\n",
       "      <th>World</th>\n",
       "      <th>Samoa</th>\n",
       "      <th>Kosovo</th>\n",
       "      <th>Yemen, Rep.</th>\n",
       "      <th>South Africa</th>\n",
       "      <th>Zambia</th>\n",
       "      <th>Zimbabwe</th>\n",
       "    </tr>\n",
       "  </thead>\n",
       "  <tbody>\n",
       "    <tr>\n",
       "      <th>0</th>\n",
       "      <td>1960</td>\n",
       "      <td>54208</td>\n",
       "      <td>130836765</td>\n",
       "      <td>8996967</td>\n",
       "      <td>96396419</td>\n",
       "      <td>5454938</td>\n",
       "      <td>1608800</td>\n",
       "      <td>13410</td>\n",
       "      <td>92197715</td>\n",
       "      <td>92417</td>\n",
       "      <td>...</td>\n",
       "      <td>32500</td>\n",
       "      <td>32670048</td>\n",
       "      <td>63689</td>\n",
       "      <td>3032156070</td>\n",
       "      <td>108627</td>\n",
       "      <td>947000</td>\n",
       "      <td>5315351</td>\n",
       "      <td>17099836</td>\n",
       "      <td>3070780</td>\n",
       "      <td>3776679</td>\n",
       "    </tr>\n",
       "    <tr>\n",
       "      <th>1</th>\n",
       "      <td>1961</td>\n",
       "      <td>55434</td>\n",
       "      <td>134159786</td>\n",
       "      <td>9169406</td>\n",
       "      <td>98407221</td>\n",
       "      <td>5531451</td>\n",
       "      <td>1659800</td>\n",
       "      <td>14378</td>\n",
       "      <td>94724540</td>\n",
       "      <td>100801</td>\n",
       "      <td>...</td>\n",
       "      <td>34300</td>\n",
       "      <td>33666111</td>\n",
       "      <td>65700</td>\n",
       "      <td>3071596055</td>\n",
       "      <td>112112</td>\n",
       "      <td>966000</td>\n",
       "      <td>5393034</td>\n",
       "      <td>17524533</td>\n",
       "      <td>3164330</td>\n",
       "      <td>3905038</td>\n",
       "    </tr>\n",
       "    <tr>\n",
       "      <th>2</th>\n",
       "      <td>1962</td>\n",
       "      <td>56234</td>\n",
       "      <td>137614644</td>\n",
       "      <td>9351442</td>\n",
       "      <td>100506960</td>\n",
       "      <td>5608499</td>\n",
       "      <td>1711319</td>\n",
       "      <td>15379</td>\n",
       "      <td>97334438</td>\n",
       "      <td>112112</td>\n",
       "      <td>...</td>\n",
       "      <td>35000</td>\n",
       "      <td>34683410</td>\n",
       "      <td>67793</td>\n",
       "      <td>3124561005</td>\n",
       "      <td>115768</td>\n",
       "      <td>994000</td>\n",
       "      <td>5473671</td>\n",
       "      <td>17965733</td>\n",
       "      <td>3260645</td>\n",
       "      <td>4039209</td>\n",
       "    </tr>\n",
       "    <tr>\n",
       "      <th>3</th>\n",
       "      <td>1963</td>\n",
       "      <td>56699</td>\n",
       "      <td>141202036</td>\n",
       "      <td>9543200</td>\n",
       "      <td>102691339</td>\n",
       "      <td>5679409</td>\n",
       "      <td>1762621</td>\n",
       "      <td>16407</td>\n",
       "      <td>100034191</td>\n",
       "      <td>125130</td>\n",
       "      <td>...</td>\n",
       "      <td>39800</td>\n",
       "      <td>35721213</td>\n",
       "      <td>69944</td>\n",
       "      <td>3189655687</td>\n",
       "      <td>119552</td>\n",
       "      <td>1022000</td>\n",
       "      <td>5556767</td>\n",
       "      <td>18423157</td>\n",
       "      <td>3360099</td>\n",
       "      <td>4178726</td>\n",
       "    </tr>\n",
       "    <tr>\n",
       "      <th>4</th>\n",
       "      <td>1964</td>\n",
       "      <td>57029</td>\n",
       "      <td>144920186</td>\n",
       "      <td>9744772</td>\n",
       "      <td>104953470</td>\n",
       "      <td>5734995</td>\n",
       "      <td>1814135</td>\n",
       "      <td>17466</td>\n",
       "      <td>102832792</td>\n",
       "      <td>138049</td>\n",
       "      <td>...</td>\n",
       "      <td>40800</td>\n",
       "      <td>36780001</td>\n",
       "      <td>72116</td>\n",
       "      <td>3255145692</td>\n",
       "      <td>123346</td>\n",
       "      <td>1050000</td>\n",
       "      <td>5641598</td>\n",
       "      <td>18896303</td>\n",
       "      <td>3463211</td>\n",
       "      <td>4322854</td>\n",
       "    </tr>\n",
       "  </tbody>\n",
       "</table>\n",
       "<p>5 rows × 267 columns</p>\n",
       "</div>"
      ],
      "text/plain": [
       "   Year  Aruba  Africa Eastern and Southern  Afghanistan  \\\n",
       "0  1960  54208                    130836765      8996967   \n",
       "1  1961  55434                    134159786      9169406   \n",
       "2  1962  56234                    137614644      9351442   \n",
       "3  1963  56699                    141202036      9543200   \n",
       "4  1964  57029                    144920186      9744772   \n",
       "\n",
       "   Africa Western and Central   Angola  Albania  Andorra  Arab World  \\\n",
       "0                    96396419  5454938  1608800    13410    92197715   \n",
       "1                    98407221  5531451  1659800    14378    94724540   \n",
       "2                   100506960  5608499  1711319    15379    97334438   \n",
       "3                   102691339  5679409  1762621    16407   100034191   \n",
       "4                   104953470  5734995  1814135    17466   102832792   \n",
       "\n",
       "   United Arab Emirates  ...  Virgin Islands (U.S.)   Vietnam  Vanuatu  \\\n",
       "0                 92417  ...                  32500  32670048    63689   \n",
       "1                100801  ...                  34300  33666111    65700   \n",
       "2                112112  ...                  35000  34683410    67793   \n",
       "3                125130  ...                  39800  35721213    69944   \n",
       "4                138049  ...                  40800  36780001    72116   \n",
       "\n",
       "        World   Samoa   Kosovo  Yemen, Rep.  South Africa   Zambia  Zimbabwe  \n",
       "0  3032156070  108627   947000      5315351      17099836  3070780   3776679  \n",
       "1  3071596055  112112   966000      5393034      17524533  3164330   3905038  \n",
       "2  3124561005  115768   994000      5473671      17965733  3260645   4039209  \n",
       "3  3189655687  119552  1022000      5556767      18423157  3360099   4178726  \n",
       "4  3255145692  123346  1050000      5641598      18896303  3463211   4322854  \n",
       "\n",
       "[5 rows x 267 columns]"
      ]
     },
     "execution_count": 25,
     "metadata": {},
     "output_type": "execute_result"
    }
   ],
   "source": [
    "data.head()"
   ]
  },
  {
   "cell_type": "code",
   "execution_count": 26,
   "id": "88c21a9e",
   "metadata": {},
   "outputs": [
    {
     "data": {
      "text/html": [
       "<div>\n",
       "<style scoped>\n",
       "    .dataframe tbody tr th:only-of-type {\n",
       "        vertical-align: middle;\n",
       "    }\n",
       "\n",
       "    .dataframe tbody tr th {\n",
       "        vertical-align: top;\n",
       "    }\n",
       "\n",
       "    .dataframe thead th {\n",
       "        text-align: right;\n",
       "    }\n",
       "</style>\n",
       "<table border=\"1\" class=\"dataframe\">\n",
       "  <thead>\n",
       "    <tr style=\"text-align: right;\">\n",
       "      <th></th>\n",
       "      <th>Year</th>\n",
       "      <th>World</th>\n",
       "    </tr>\n",
       "  </thead>\n",
       "  <tbody>\n",
       "    <tr>\n",
       "      <th>0</th>\n",
       "      <td>1960</td>\n",
       "      <td>3032156070</td>\n",
       "    </tr>\n",
       "    <tr>\n",
       "      <th>1</th>\n",
       "      <td>1961</td>\n",
       "      <td>3071596055</td>\n",
       "    </tr>\n",
       "    <tr>\n",
       "      <th>2</th>\n",
       "      <td>1962</td>\n",
       "      <td>3124561005</td>\n",
       "    </tr>\n",
       "    <tr>\n",
       "      <th>3</th>\n",
       "      <td>1963</td>\n",
       "      <td>3189655687</td>\n",
       "    </tr>\n",
       "    <tr>\n",
       "      <th>4</th>\n",
       "      <td>1964</td>\n",
       "      <td>3255145692</td>\n",
       "    </tr>\n",
       "  </tbody>\n",
       "</table>\n",
       "</div>"
      ],
      "text/plain": [
       "   Year       World\n",
       "0  1960  3032156070\n",
       "1  1961  3071596055\n",
       "2  1962  3124561005\n",
       "3  1963  3189655687\n",
       "4  1964  3255145692"
      ]
     },
     "execution_count": 26,
     "metadata": {},
     "output_type": "execute_result"
    }
   ],
   "source": [
    "df = data[['Year','World']]\n",
    "df.head()"
   ]
  },
  {
   "cell_type": "code",
   "execution_count": 27,
   "id": "3def94f5",
   "metadata": {},
   "outputs": [],
   "source": [
    "# Create the feature and label vectors\n",
    "X = data['Year'].to_numpy().reshape(-1, 1)\n",
    "y = data['World'].to_numpy()"
   ]
  },
  {
   "cell_type": "code",
   "execution_count": 28,
   "id": "6a32075e",
   "metadata": {},
   "outputs": [],
   "source": [
    "from sklearn.model_selection import train_test_split\n",
    "from sklearn.metrics import mean_squared_error\n",
    "X_train, X_val, y_train, y_val = train_test_split(X, y, test_size=0.33, random_state=30)"
   ]
  },
  {
   "cell_type": "code",
   "execution_count": 29,
   "id": "8c4019b0",
   "metadata": {},
   "outputs": [
    {
     "name": "stdout",
     "output_type": "stream",
     "text": [
      "The training error is:  1929023986622506.0\n",
      "The validation error is:  1404037254271065.2\n"
     ]
    }
   ],
   "source": [
    "from sklearn.linear_model import LinearRegression\n",
    "lin_regr = LinearRegression(fit_intercept=True) \n",
    "lin_regr.fit(X_train, y_train)  \n",
    "\n",
    "y_pred_train = lin_regr.predict(X_train)\n",
    "tr_error = mean_squared_error(y_train, y_pred_train)\n",
    "print(\"The training error is: \",tr_error)\n",
    "\n",
    "y_pred_val = lin_regr.predict(X_val)\n",
    "val_error = mean_squared_error(y_val, y_pred_val)\n",
    "print(\"The validation error is: \",val_error)"
   ]
  },
  {
   "cell_type": "code",
   "execution_count": 30,
   "id": "aaef66ba",
   "metadata": {},
   "outputs": [
    {
     "data": {
      "image/png": "[encoded data removed]",
      "text/plain": [
       "<Figure size 432x288 with 1 Axes>"
      ]
     },
     "metadata": {
      "needs_background": "light"
     },
     "output_type": "display_data"
    }
   ],
   "source": [
    "plt.plot(X_val, y_pred_val, color='r', label='Linear Regression Prediction')  \n",
    "plt.scatter(X, y, color='b', s=8, label='Datapoints') \n",
    "\n",
    "plt.xlabel('Year',size=15) # define label for the horizontal axis \n",
    "plt.ylabel('Population',size=15) # define label for the vertical axis \n",
    "\n",
    "plt.title('Linear Regression Model',size=15) # define the title of the plot   \n",
    "plt.legend(loc='best',fontsize=14) # define the location of the legend  \n",
    "\n",
    "plt.show()  # display the plot on the screen "
   ]
  }
 ],
 "metadata": {
  "kernelspec": {
   "display_name": "Python 3",
   "language": "python",
   "name": "python3"
  },
  "language_info": {
   "codemirror_mode": {
    "name": "ipython",
    "version": 3
   },
   "file_extension": ".py",
   "mimetype": "text/x-python",
   "name": "python",
   "nbconvert_exporter": "python",
   "pygments_lexer": "ipython3",
   "version": "3.8.6"
  },
  "varInspector": {
   "cols": {
    "lenName": 16,
    "lenType": 16,
    "lenVar": 40
   },
   "kernels_config": {
    "python": {
     "delete_cmd_postfix": "",
     "delete_cmd_prefix": "del ",
     "library": "var_list.py",
     "varRefreshCmd": "print(var_dic_list())"
    },
    "r": {
     "delete_cmd_postfix": ") ",
     "delete_cmd_prefix": "rm(",
     "library": "var_list.r",
     "varRefreshCmd": "cat(var_dic_list()) "
    }
   },
   "types_to_exclude": [
    "module",
    "function",
    "builtin_function_or_method",
    "instance",
    "_Feature"
   ],
   "window_display": false
  }
 },
 "nbformat": 4,
 "nbformat_minor": 5
}
